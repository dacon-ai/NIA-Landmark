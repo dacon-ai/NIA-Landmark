{
 "cells": [
  {
   "cell_type": "code",
   "execution_count": null,
   "metadata": {},
   "outputs": [],
   "source": [
    "class MyModel(tf.keras.Model):\n",
    "    def __init__(self):\n",
    "        super(MyModel, self).__init__()\n",
    "        self.model = model\n",
    "    \n",
    "    @tf.function(input_signature=[\n",
    "      tf.TensorSpec(shape=[None, None, 3], dtype=tf.uint8, name='input_image')\n",
    "    ])\n",
    "    \n",
    "    def call(self, input_image):\n",
    "        output_tensors = {}\n",
    "        \n",
    "        input_image = tf.cast(input_image, tf.float32) / 255.0\n",
    "        input_image = tf.image.resize(input_image, (384, 384)) \n",
    "                \n",
    "        extracted_features = self.model(tf.convert_to_tensor([input_image], dtype=tf.float32))[0]\n",
    "        output_tensors['global_descriptor'] = tf.identity(extracted_features, name='global_descriptor')\n",
    "        return output_tensors"
   ]
  },
  {
   "cell_type": "code",
   "execution_count": null,
   "metadata": {},
   "outputs": [],
   "source": [
    "m = MyModel()\n",
    "served_function = m.call\n",
    "\n",
    "tf.saved_model.save(\n",
    "    m, \n",
    "    export_dir=\"./model\", \n",
    "    signatures={'serving_default': served_function}\n",
    ")"
   ]
  },
  {
   "cell_type": "code",
   "execution_count": null,
   "metadata": {},
   "outputs": [],
   "source": [
    "!saved_model_cli show --dir ./my_model/ --all"
   ]
  }
 ],
 "metadata": {
  "kernelspec": {
   "display_name": "landmark",
   "language": "python",
   "name": "landmark"
  },
  "language_info": {
   "codemirror_mode": {
    "name": "ipython",
    "version": 3
   },
   "file_extension": ".py",
   "mimetype": "text/x-python",
   "name": "python",
   "nbconvert_exporter": "python",
   "pygments_lexer": "ipython3",
   "version": "3.7.7"
  }
 },
 "nbformat": 4,
 "nbformat_minor": 4
}
